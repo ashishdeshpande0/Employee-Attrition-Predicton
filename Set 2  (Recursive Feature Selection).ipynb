{
 "cells": [
  {
   "cell_type": "code",
   "execution_count": 1,
   "id": "8242fff5",
   "metadata": {},
   "outputs": [],
   "source": [
    "import numpy as np \n",
    "import pandas as pd"
   ]
  },
  {
   "cell_type": "code",
   "execution_count": 2,
   "id": "ce2f20fb",
   "metadata": {},
   "outputs": [],
   "source": [
    "data = pd.read_csv('IBM dataset.csv')"
   ]
  },
  {
   "cell_type": "code",
   "execution_count": 3,
   "id": "837d0660",
   "metadata": {},
   "outputs": [],
   "source": [
    "from sklearn.preprocessing import LabelEncoder\n"
   ]
  },
  {
   "cell_type": "code",
   "execution_count": 4,
   "id": "90e96c5d",
   "metadata": {},
   "outputs": [],
   "source": [
    "data.dropna(inplace=True)\n",
    "data.drop_duplicates(inplace=True)\n",
    "le = LabelEncoder()\n",
    "data['Attrition'] = le.fit_transform(data['Attrition'])\n",
    "X = data.drop(['Attrition'], axis=1)\n",
    "y = data['Attrition']"
   ]
  },
  {
   "cell_type": "code",
   "execution_count": 5,
   "id": "01445147",
   "metadata": {},
   "outputs": [],
   "source": [
    "#Label Encoding\n",
    "from sklearn.preprocessing import LabelEncoder\n",
    "data.drop(['EmployeeNumber', 'Over18', 'StandardHours'], axis=1, inplace=True)\n",
    "encoder = LabelEncoder()\n",
    "data['Attrition'] = encoder.fit_transform(data['Attrition'])\n",
    "data['BusinessTravel'] = encoder.fit_transform(data['BusinessTravel'])\n",
    "data['Department'] = encoder.fit_transform(data['Department'])\n",
    "data['EducationField'] = encoder.fit_transform(data['EducationField'])\n",
    "data['Gender'] = encoder.fit_transform(data['Gender'])\n",
    "data['JobRole'] = encoder.fit_transform(data['JobRole'])\n",
    "data['MaritalStatus'] = encoder.fit_transform(data['MaritalStatus'])\n",
    "data['OverTime'] = encoder.fit_transform(data['OverTime'])\n",
    "X = data.drop('Attrition', axis=1)\n",
    "y = data['Attrition']"
   ]
  },
  {
   "cell_type": "code",
   "execution_count": 6,
   "id": "53bf5a1e",
   "metadata": {},
   "outputs": [],
   "source": [
    "from sklearn.ensemble import RandomForestClassifier\n",
    "rfc = RandomForestClassifier(random_state=42)"
   ]
  },
  {
   "cell_type": "code",
   "execution_count": 7,
   "id": "45ce9024",
   "metadata": {},
   "outputs": [
    {
     "name": "stdout",
     "output_type": "stream",
     "text": [
      "Selected features: Index(['Age', 'DailyRate', 'DistanceFromHome', 'EnvironmentSatisfaction',\n",
      "       'HourlyRate', 'JobRole', 'MonthlyIncome', 'MonthlyRate',\n",
      "       'NumCompaniesWorked', 'OverTime', 'PercentSalaryHike',\n",
      "       'StockOptionLevel', 'TotalWorkingYears', 'YearsAtCompany',\n",
      "       'YearsWithCurrManager'],\n",
      "      dtype='object')\n"
     ]
    }
   ],
   "source": [
    "from sklearn.feature_selection import RFE\n",
    "rfe = RFE(estimator=rfc, n_features_to_select=15, step=1)\n",
    "rfe.fit(X, y)\n",
    "selected_features = X.columns[rfe.support_]\n",
    "print(f'Selected features: {selected_features}')\n"
   ]
  },
  {
   "cell_type": "code",
   "execution_count": 8,
   "id": "b71e3db2",
   "metadata": {},
   "outputs": [],
   "source": [
    "from sklearn.model_selection import train_test_split"
   ]
  },
  {
   "cell_type": "code",
   "execution_count": 9,
   "id": "8a1d4c1c",
   "metadata": {},
   "outputs": [],
   "source": [
    "X_train, X_test, y_train, y_test = train_test_split(X, y, test_size=0.33, random_state=42) "
   ]
  },
  {
   "cell_type": "code",
   "execution_count": 10,
   "id": "8a5df835",
   "metadata": {},
   "outputs": [],
   "source": [
    "#Train test split\n",
    "X_selected = X[selected_features]\n",
    "\n",
    "from sklearn.model_selection import train_test_split\n",
    "X_train, X_test, y_train, y_test = train_test_split(X_selected, y, test_size=0.2, random_state=42)\n",
    "\n",
    "rfc.fit(X_train, y_train)\n",
    "y_pred = rfc.predict(X_test)"
   ]
  },
  {
   "cell_type": "code",
   "execution_count": null,
   "id": "864f2f6e",
   "metadata": {},
   "outputs": [],
   "source": []
  },
  {
   "cell_type": "markdown",
   "id": "08e1a460",
   "metadata": {},
   "source": [
    "# Model Building"
   ]
  },
  {
   "cell_type": "code",
   "execution_count": 11,
   "id": "004135bc",
   "metadata": {},
   "outputs": [
    {
     "ename": "ModuleNotFoundError",
     "evalue": "No module named 'xgboost'",
     "output_type": "error",
     "traceback": [
      "\u001b[1;31m---------------------------------------------------------------------------\u001b[0m",
      "\u001b[1;31mModuleNotFoundError\u001b[0m                       Traceback (most recent call last)",
      "Input \u001b[1;32mIn [11]\u001b[0m, in \u001b[0;36m<cell line: 2>\u001b[1;34m()\u001b[0m\n\u001b[0;32m      1\u001b[0m \u001b[38;5;28;01mfrom\u001b[39;00m \u001b[38;5;21;01msklearn\u001b[39;00m\u001b[38;5;21;01m.\u001b[39;00m\u001b[38;5;21;01mensemble\u001b[39;00m \u001b[38;5;28;01mimport\u001b[39;00m RandomForestClassifier\n\u001b[1;32m----> 2\u001b[0m \u001b[38;5;28;01mfrom\u001b[39;00m \u001b[38;5;21;01mxgboost\u001b[39;00m \u001b[38;5;28;01mimport\u001b[39;00m XGBClassifier\n\u001b[0;32m      3\u001b[0m \u001b[38;5;28;01mfrom\u001b[39;00m \u001b[38;5;21;01msklearn\u001b[39;00m\u001b[38;5;21;01m.\u001b[39;00m\u001b[38;5;21;01mnaive_bayes\u001b[39;00m \u001b[38;5;28;01mimport\u001b[39;00m GaussianNB\n\u001b[0;32m      4\u001b[0m \u001b[38;5;28;01mfrom\u001b[39;00m \u001b[38;5;21;01msklearn\u001b[39;00m\u001b[38;5;21;01m.\u001b[39;00m\u001b[38;5;21;01msvm\u001b[39;00m \u001b[38;5;28;01mimport\u001b[39;00m SVC\n",
      "\u001b[1;31mModuleNotFoundError\u001b[0m: No module named 'xgboost'"
     ]
    }
   ],
   "source": [
    "from sklearn.ensemble import RandomForestClassifier\n",
    "from xgboost import XGBClassifier\n",
    "from sklearn.naive_bayes import GaussianNB\n",
    "from sklearn.svm import SVC\n",
    "from sklearn.metrics import accuracy_score\n",
    "from sklearn.metrics import precision_score"
   ]
  },
  {
   "cell_type": "code",
   "execution_count": null,
   "id": "291ba1f5",
   "metadata": {},
   "outputs": [],
   "source": [
    "# Train a Random Forest model on the data\n",
    "rf_model = RandomForestClassifier(random_state=42)\n",
    "rf_model.fit(X_train, y_train)"
   ]
  },
  {
   "cell_type": "code",
   "execution_count": null,
   "id": "38b2bee3",
   "metadata": {},
   "outputs": [],
   "source": [
    "# Train an XGBoost model on the data\n",
    "xgb_model = XGBClassifier(random_state=42)\n",
    "xgb_model.fit(X_train, y_train)"
   ]
  },
  {
   "cell_type": "code",
   "execution_count": null,
   "id": "e271b4e2",
   "metadata": {},
   "outputs": [],
   "source": [
    "# Train a Naive Bayes model on the data\n",
    "nb_model = GaussianNB()\n",
    "nb_model.fit(X_train, y_train)"
   ]
  },
  {
   "cell_type": "code",
   "execution_count": null,
   "id": "7404c881",
   "metadata": {},
   "outputs": [],
   "source": [
    "# Train an SVM model on the data\n",
    "svm_model = SVC(random_state=42)\n",
    "svm_model.fit(X_train, y_train)"
   ]
  },
  {
   "cell_type": "code",
   "execution_count": null,
   "id": "5c509a7f",
   "metadata": {},
   "outputs": [],
   "source": [
    "# Predict the target variable on the test set using the trained models\n",
    "y_rf_pred = rf_model.predict(X_test)\n",
    "y_xgb_pred = xgb_model.predict(X_test)\n",
    "y_nb_pred = nb_model.predict(X_test)\n",
    "y_svm_pred = svm_model.predict(X_test)"
   ]
  },
  {
   "cell_type": "code",
   "execution_count": 17,
   "id": "662f725a",
   "metadata": {},
   "outputs": [
    {
     "name": "stdout",
     "output_type": "stream",
     "text": [
      "Random Forest Accuracy: 0.8741496598639455\n",
      "XGBoost Accuracy: 0.8707482993197279\n",
      "Naive Bayes Accuracy: 0.8605442176870748\n",
      "SVM Accuracy: 0.8673469387755102\n"
     ]
    }
   ],
   "source": [
    "# Calculate the accuracy of the models\n",
    "rf_accuracy = accuracy_score(y_test, y_rf_pred)\n",
    "xgb_accuracy = accuracy_score(y_test, y_xgb_pred)\n",
    "nb_accuracy = accuracy_score(y_test, y_nb_pred)\n",
    "svm_accuracy = accuracy_score(y_test, y_svm_pred)\n",
    "\n",
    "print('Random Forest Accuracy:', rf_accuracy)\n",
    "print('XGBoost Accuracy:', xgb_accuracy)\n",
    "print('Naive Bayes Accuracy:', nb_accuracy)\n",
    "print('SVM Accuracy:', svm_accuracy)"
   ]
  },
  {
   "cell_type": "code",
   "execution_count": 18,
   "id": "2d4f70ad",
   "metadata": {},
   "outputs": [
    {
     "name": "stdout",
     "output_type": "stream",
     "text": [
      "Random Forest Precision: 0.6\n",
      "XGBoost Precision: 0.5217391304347826\n",
      "Naive Bayes Precision: 0.4642857142857143\n",
      "SVM Precision: 0.0\n"
     ]
    },
    {
     "name": "stderr",
     "output_type": "stream",
     "text": [
      "C:\\Users\\User\\anaconda3\\lib\\site-packages\\sklearn\\metrics\\_classification.py:1344: UndefinedMetricWarning: Precision is ill-defined and being set to 0.0 due to no predicted samples. Use `zero_division` parameter to control this behavior.\n",
      "  _warn_prf(average, modifier, msg_start, len(result))\n"
     ]
    }
   ],
   "source": [
    "# Calculate the precision of the models\n",
    "from sklearn.metrics import precision_score\n",
    "\n",
    "# Calculate the precision of the Random Forest model\n",
    "rf_precision = precision_score(y_test, y_rf_pred)\n",
    "\n",
    "# Calculate the precision of the XGBoost model\n",
    "xgb_precision = precision_score(y_test, y_xgb_pred)\n",
    "\n",
    "# Calculate the precision of the Naive Bayes model\n",
    "nb_precision = precision_score(y_test, y_nb_pred)\n",
    "\n",
    "# Calculate the precision of the SVM model\n",
    "svm_precision = precision_score(y_test, y_svm_pred)\n",
    "\n",
    "print('Random Forest Precision:', rf_precision)\n",
    "print('XGBoost Precision:', xgb_precision)\n",
    "print('Naive Bayes Precision:', nb_precision)\n",
    "print('SVM Precision:', svm_precision)\n"
   ]
  },
  {
   "cell_type": "code",
   "execution_count": 19,
   "id": "502ce571",
   "metadata": {},
   "outputs": [
    {
     "name": "stdout",
     "output_type": "stream",
     "text": [
      "Random Forest Recall: 0.15384615384615385\n",
      "XGBoost Recall: 0.3076923076923077\n",
      "Naive Bayes Recall: 0.3333333333333333\n",
      "SVM Recall: 0.0\n"
     ]
    }
   ],
   "source": [
    "# Calculate the recall_score of the models\n",
    "from sklearn.metrics import recall_score\n",
    "\n",
    "# Calculate the recall of the Random Forest model\n",
    "rf_recall = recall_score(y_test, y_rf_pred)\n",
    "\n",
    "# Calculate the recall of the XGBoost model\n",
    "xgb_recall = recall_score(y_test, y_xgb_pred)\n",
    "\n",
    "# Calculate the recall of the Naive Bayes model\n",
    "nb_recall = recall_score(y_test, y_nb_pred)\n",
    "\n",
    "# Calculate the recall of the SVM model\n",
    "svm_recall = recall_score(y_test, y_svm_pred)\n",
    "\n",
    "print('Random Forest Recall:', rf_recall)\n",
    "print('XGBoost Recall:', xgb_recall)\n",
    "print('Naive Bayes Recall:', nb_recall)\n",
    "print('SVM Recall:', svm_recall)\n"
   ]
  },
  {
   "cell_type": "code",
   "execution_count": 20,
   "id": "020e8095",
   "metadata": {},
   "outputs": [
    {
     "name": "stdout",
     "output_type": "stream",
     "text": [
      "Random Forest F1 score: 0.2448979591836735\n",
      "XGBoost F1 score: 0.3870967741935484\n",
      "Naive Bayes F1 score: 0.3880597014925373\n",
      "SVM F1 score: 0.0\n"
     ]
    }
   ],
   "source": [
    "# Calculate the f1_score of the models\n",
    "from sklearn.metrics import f1_score\n",
    "\n",
    "# Calculate the F1 score of the Random Forest model\n",
    "rf_f1 = f1_score(y_test, y_rf_pred)\n",
    "\n",
    "# Calculate the F1 score of the XGBoost model\n",
    "xgb_f1 = f1_score(y_test, y_xgb_pred)\n",
    "\n",
    "# Calculate the F1 score of the Naive Bayes model\n",
    "nb_f1 = f1_score(y_test, y_nb_pred)\n",
    "\n",
    "# Calculate the F1 score of the SVM model\n",
    "svm_f1 = f1_score(y_test, y_svm_pred)\n",
    "\n",
    "print('Random Forest F1 score:', rf_f1)\n",
    "print('XGBoost F1 score:', xgb_f1)\n",
    "print('Naive Bayes F1 score:', nb_f1)\n",
    "print('SVM F1 score:', svm_f1)\n"
   ]
  },
  {
   "cell_type": "code",
   "execution_count": 21,
   "id": "28488b50",
   "metadata": {},
   "outputs": [
    {
     "name": "stdout",
     "output_type": "stream",
     "text": [
      "           Model  Accuracy  Precision    Recall  F1 Score\n",
      "0  Random Forest  0.874150   0.600000  0.153846  0.244898\n",
      "1        XGBoost  0.870748   0.521739  0.307692  0.387097\n",
      "2    Naive Bayes  0.860544   0.464286  0.333333  0.388060\n",
      "3            SVM  0.867347   0.000000  0.000000  0.000000\n"
     ]
    },
    {
     "name": "stderr",
     "output_type": "stream",
     "text": [
      "C:\\Users\\User\\anaconda3\\lib\\site-packages\\sklearn\\metrics\\_classification.py:1344: UndefinedMetricWarning: Precision is ill-defined and being set to 0.0 due to no predicted samples. Use `zero_division` parameter to control this behavior.\n",
      "  _warn_prf(average, modifier, msg_start, len(result))\n"
     ]
    }
   ],
   "source": [
    "#comparison table of different algorithms for univariate feature selection\n",
    "from sklearn.metrics import accuracy_score, precision_score, recall_score, f1_score\n",
    "\n",
    "# Calculate the evaluation metrics for each model\n",
    "rf_accuracy = accuracy_score(y_test, y_rf_pred)\n",
    "rf_precision = precision_score(y_test, y_rf_pred)\n",
    "rf_recall = recall_score(y_test, y_rf_pred)\n",
    "rf_f1 = f1_score(y_test, y_rf_pred)\n",
    "\n",
    "xgb_accuracy = accuracy_score(y_test, y_xgb_pred)\n",
    "xgb_precision = precision_score(y_test, y_xgb_pred)\n",
    "xgb_recall = recall_score(y_test, y_xgb_pred)\n",
    "xgb_f1 = f1_score(y_test, y_xgb_pred)\n",
    "\n",
    "nb_accuracy = accuracy_score(y_test, y_nb_pred)\n",
    "nb_precision = precision_score(y_test, y_nb_pred)\n",
    "nb_recall = recall_score(y_test, y_nb_pred)\n",
    "nb_f1 = f1_score(y_test, y_nb_pred)\n",
    "\n",
    "svm_accuracy = accuracy_score(y_test, y_svm_pred)\n",
    "svm_precision = precision_score(y_test, y_svm_pred)\n",
    "svm_recall = recall_score(y_test, y_svm_pred)\n",
    "svm_f1 = f1_score(y_test, y_svm_pred)\n",
    "\n",
    "# Create the table using pandas\n",
    "import pandas as pd\n",
    "\n",
    "data = {'Model': ['Random Forest', 'XGBoost', 'Naive Bayes', 'SVM'],\n",
    "        'Accuracy': [rf_accuracy, xgb_accuracy, nb_accuracy, svm_accuracy],\n",
    "        'Precision': [rf_precision, xgb_precision, nb_precision, svm_precision],\n",
    "        'Recall': [rf_recall, xgb_recall, nb_recall, svm_recall],\n",
    "        'F1 Score': [rf_f1, xgb_f1, nb_f1, svm_f1]}\n",
    "table = pd.DataFrame(data)\n",
    "print(table)"
   ]
  },
  {
   "cell_type": "code",
   "execution_count": 22,
   "id": "7d84be11",
   "metadata": {},
   "outputs": [],
   "source": [
    "import pickle\n",
    "with open('random_forest_s2.pkl', 'wb') as files:\n",
    "    pickle.dump(rf_model, files)"
   ]
  },
  {
   "cell_type": "code",
   "execution_count": 23,
   "id": "95783c88",
   "metadata": {},
   "outputs": [],
   "source": [
    "pickled_model = pickle.load(open('random_forest_s2.pkl','rb'))"
   ]
  },
  {
   "cell_type": "code",
   "execution_count": null,
   "id": "0c701232",
   "metadata": {},
   "outputs": [],
   "source": []
  }
 ],
 "metadata": {
  "kernelspec": {
   "display_name": "Python 3 (ipykernel)",
   "language": "python",
   "name": "python3"
  },
  "language_info": {
   "codemirror_mode": {
    "name": "ipython",
    "version": 3
   },
   "file_extension": ".py",
   "mimetype": "text/x-python",
   "name": "python",
   "nbconvert_exporter": "python",
   "pygments_lexer": "ipython3",
   "version": "3.9.12"
  }
 },
 "nbformat": 4,
 "nbformat_minor": 5
}
